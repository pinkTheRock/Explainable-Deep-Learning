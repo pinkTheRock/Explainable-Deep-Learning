{
  "nbformat": 4,
  "nbformat_minor": 0,
  "metadata": {
    "colab": {
      "name": "Projet_inf8225.ipynb",
      "provenance": [],
      "collapsed_sections": []
    },
    "kernelspec": {
      "name": "python3",
      "display_name": "Python 3"
    },
    "language_info": {
      "name": "python"
    },
    "accelerator": "GPU"
  },
  "cells": [
    {
      "cell_type": "markdown",
      "metadata": {
        "id": "lTvz4vM6Rws4"
      },
      "source": [
        "## Librairies externes\n"
      ]
    },
    {
      "cell_type": "markdown",
      "metadata": {
        "id": "ZOB4NbIkVuWE"
      },
      "source": [
        "#INF8225 PROJET H21\n",
        "William Valiquette 1847812 \n",
        "\n",
        "Rosanne Larocque   1872448\n",
        "\n",
        "Marc-Olivier Bélanger 1840713 \n"
      ]
    },
    {
      "cell_type": "code",
      "metadata": {
        "id": "VtWSCyZuOqtu"
      },
      "source": [
        "import numpy as np\n",
        "import matplotlib.pyplot as plt\n",
        "import time\n",
        "import math\n",
        "\n",
        "import torch\n",
        "import torch.nn as nn\n",
        "from torchvision import transforms\n",
        "from torchvision.datasets import MNIST\n",
        "from torch.utils.data import DataLoader, random_split, TensorDataset\n",
        "import torch.optim as optim\n",
        "from torch.autograd import Variable\n",
        "import torch.nn.functional as F\n",
        "\n",
        "from sklearn.model_selection import train_test_split\n",
        "from sklearn.tree import DecisionTreeClassifier, plot_tree\n",
        "\n",
        "random_seed = 1\n",
        "torch.backends.cudnn.enabled = False\n",
        "torch.manual_seed(random_seed)\n",
        "\n",
        "from keras.datasets import mnist"
      ],
      "execution_count": null,
      "outputs": []
    },
    {
      "cell_type": "markdown",
      "metadata": {
        "id": "f5cRPi2BYHma"
      },
      "source": [
        "## Valeurs et fonctions globales"
      ]
    },
    {
      "cell_type": "code",
      "metadata": {
        "id": "eD_edXSiYJcA"
      },
      "source": [
        "n_categories = 10\n",
        "img_size = 28"
      ],
      "execution_count": null,
      "outputs": []
    },
    {
      "cell_type": "code",
      "metadata": {
        "id": "CPZiKJzgfWNg"
      },
      "source": [
        "# GPU\n",
        "def gpu_warm_up(model, batch_size, img_size):\n",
        "  '''\n",
        "    util function making sure gpu is warmed up\n",
        "    before any time measurement.\n",
        "    https://towardsdatascience.com/the-correct-way-to-measure-inference-time-of-deep-neural-networks-304a54e5187f#:~:text=The%20Correct%20Way%20to%20Measure%20Inference%20Time%20of%20Deep%20Neural%20Networks,-Amnon%20Geifman&text=The%20network%20latency%20is%20one,few%20milliseconds%20to%20one%20second.\n",
        "  '''\n",
        "  device = torch.device('cuda:0' if torch.cuda.is_available() else 'cpu')\n",
        "\n",
        "  model = model.to(device)\n",
        "  model = nn.DataParallel(model)\n",
        "  # For convolutional layers shape must be: (batch_size, nb_chanels, height, width)\n",
        "  # only 1 channel at input\n",
        "  dummy_input = torch.randn(batch_size, 1, img_size, img_size, dtype=torch.float).to(device)\n",
        "\n",
        "  #GPU-WARM-UP\n",
        "  print(\"dummy: \", dummy_input.shape)\n",
        "  for _ in range(10):\n",
        "    _ = model(dummy_input).to(device)\n",
        "\n",
        "  return model, device\n"
      ],
      "execution_count": null,
      "outputs": []
    },
    {
      "cell_type": "markdown",
      "metadata": {
        "id": "utHzfs9zQZ7H"
      },
      "source": [
        "## Lecture de données"
      ]
    },
    {
      "cell_type": "code",
      "metadata": {
        "id": "Wqzl6YzGSnfN",
        "colab": {
          "base_uri": "https://localhost:8080/"
        },
        "outputId": "bd55c65f-a6d2-4213-d190-fcca09ce51ca"
      },
      "source": [
        "# to avoid the 503 error with lecunn's broken website... \n",
        "# https://stackoverflow.com/questions/66646604/http-error-503-service-unavailable-whan-trying-to-download-mnist-data\n",
        "!wget www.di.ens.fr/~lelarge/MNIST.tar.gz\n",
        "!tar -zxvf MNIST.tar.gz\n",
        "\n",
        "def get_mnist_dataset(batch_size, val_percentage=0.1):\n",
        "  dataset = MNIST(root = './', train=True, download=True, \n",
        "                  transform = transforms.Compose([transforms.ToTensor(), transforms.Normalize((0.1307), (0.3081))]))\n",
        "  dataset_test = MNIST(root = './', train=False, download=True, \n",
        "                       transform = transforms.Compose([transforms.ToTensor(), transforms.Normalize((0.1307), (0.3081))]))\n",
        "\n",
        "  len_train = int(len(dataset) * (1.-val_percentage))\n",
        "  len_val = len(dataset) - len_train\n",
        "  dataset_train, dataset_val = random_split(dataset, [len_train, len_val])\n",
        "\n",
        "  print(len_train)\n",
        "  print(len_val)\n",
        "\n",
        "  data_loader_train = DataLoader(dataset_train, batch_size=batch_size, shuffle=True, num_workers=2)\n",
        "\n",
        "  data_loader_val   = DataLoader(dataset_val, batch_size=batch_size, shuffle=True, num_workers=2)\n",
        "  data_loader_test  = DataLoader(dataset_test, batch_size=batch_size, shuffle=True, num_workers=2)\n",
        "\n",
        "  return data_loader_train, data_loader_val, data_loader_test"
      ],
      "execution_count": null,
      "outputs": [
        {
          "output_type": "stream",
          "text": [
            "--2021-04-29 15:11:21--  http://www.di.ens.fr/~lelarge/MNIST.tar.gz\n",
            "Resolving www.di.ens.fr (www.di.ens.fr)... 129.199.99.14\n",
            "Connecting to www.di.ens.fr (www.di.ens.fr)|129.199.99.14|:80... connected.\n",
            "HTTP request sent, awaiting response... 302 Found\n",
            "Location: https://www.di.ens.fr/~lelarge/MNIST.tar.gz [following]\n",
            "--2021-04-29 15:11:22--  https://www.di.ens.fr/~lelarge/MNIST.tar.gz\n",
            "Connecting to www.di.ens.fr (www.di.ens.fr)|129.199.99.14|:443... connected.\n",
            "HTTP request sent, awaiting response... 200 OK\n",
            "Length: unspecified [application/x-gzip]\n",
            "Saving to: ‘MNIST.tar.gz’\n",
            "\n",
            "MNIST.tar.gz            [        <=>         ]  33.20M  6.44MB/s    in 6.4s    \n",
            "\n",
            "2021-04-29 15:11:30 (5.20 MB/s) - ‘MNIST.tar.gz’ saved [34813078]\n",
            "\n",
            "MNIST/\n",
            "MNIST/raw/\n",
            "MNIST/raw/train-labels-idx1-ubyte\n",
            "MNIST/raw/t10k-labels-idx1-ubyte.gz\n",
            "MNIST/raw/t10k-labels-idx1-ubyte\n",
            "MNIST/raw/t10k-images-idx3-ubyte.gz\n",
            "MNIST/raw/train-images-idx3-ubyte\n",
            "MNIST/raw/train-labels-idx1-ubyte.gz\n",
            "MNIST/raw/t10k-images-idx3-ubyte\n",
            "MNIST/raw/train-images-idx3-ubyte.gz\n",
            "MNIST/processed/\n",
            "MNIST/processed/training.pt\n",
            "MNIST/processed/test.pt\n"
          ],
          "name": "stdout"
        }
      ]
    },
    {
      "cell_type": "markdown",
      "metadata": {
        "id": "mJMY1q35FJIX"
      },
      "source": [
        "## Réseau convolutif"
      ]
    },
    {
      "cell_type": "markdown",
      "metadata": {
        "id": "YvEkwiLStn_R"
      },
      "source": [
        "### Définition et configuration du modèle"
      ]
    },
    {
      "cell_type": "code",
      "metadata": {
        "id": "KADZacyutnQj"
      },
      "source": [
        "hidden_sizes = [32, 64, 128]\n",
        "n_epochs = 15\n",
        "batch_size = 16\n",
        "criterion = nn.CrossEntropyLoss()\n",
        "lr = 0.0003\n",
        "\n",
        "class Net(nn.Module):\n",
        "    def __init__(self):\n",
        "        super().__init__()\n",
        "        self.conv1 = nn.Conv2d(1, hidden_sizes[0], 3)\n",
        "        self.conv2 = nn.Conv2d(hidden_sizes[0], hidden_sizes[1], 3)\n",
        "        self.maxPool = nn.MaxPool2d(kernel_size=2)\n",
        "        self.dropout1 = nn.Dropout(0.25)\n",
        "        self.fc1 = nn.Linear(hidden_sizes[1] * 12 * 12, hidden_sizes[2])\n",
        "        self.dropout2 = nn.Dropout(0.5)\n",
        "        self.fc2 = nn.Linear(hidden_sizes[2], n_categories)\n",
        "        self.out = nn.LogSoftmax()\n",
        "\n",
        "    def forward(self, x):\n",
        "\n",
        "        # convolutions\n",
        "        x = F.relu(self.conv1(x))\n",
        "        x = F.relu(self.conv2(x))\n",
        "        x = self.maxPool(x)\n",
        "        x = self.dropout1(x)\n",
        "\n",
        "        # flatten\n",
        "        x = x.view(x.size(0), -1)\n",
        "\n",
        "        # dense\n",
        "        x = F.relu(self.fc1(x))\n",
        "        x = self.dropout2(x)\n",
        "        x = F.relu(self.fc2(x))\n",
        "        x = self.out(x)\n",
        "        return x\n",
        "\n",
        "\n",
        "model = Net()"
      ],
      "execution_count": null,
      "outputs": []
    },
    {
      "cell_type": "markdown",
      "metadata": {
        "id": "vCI7VXjZtxj-"
      },
      "source": [
        "### Entraînement et évaluation du modèle"
      ]
    },
    {
      "cell_type": "code",
      "metadata": {
        "id": "A06LG1xumvb6"
      },
      "source": [
        "def get_accuracy(logit, target, batch_size):\n",
        "    results = (torch.max(logit, 1)[1].view(target.size()).data == target.data)\n",
        "\n",
        "    misclassified_idx = []\n",
        "    for idx, correctness in enumerate(results):\n",
        "      if not correctness: misclassified_idx.append(idx)\n",
        "      if (len(misclassified_idx) == 5): break\n",
        "\n",
        "\n",
        "    corrects = results.sum()\n",
        "    accuracy = 100.0 * corrects/batch_size\n",
        "    return accuracy.item(), misclassified_idx\n",
        "\n",
        "def plot_losses_and_accuracies(train_values, validation_values, value_name='Loss'):\n",
        "    epochs = range(n_epochs)\n",
        "    plt.plot(epochs, train_values, 'g', label='Training')\n",
        "    plt.plot(epochs, validation_values, 'b', label='validation')\n",
        "    plt.title('Training and Validation ' + value_name)\n",
        "    plt.xlabel('Epochs')\n",
        "    plt.ylabel(value_name)\n",
        "    plt.legend()\n",
        "    plt.show()\n",
        "\n",
        "def evaluate_model(dataloader, model, batch_size, device):\n",
        "  model.eval()\n",
        "  loss = 0.0\n",
        "  acc = 0.0\n",
        "\n",
        "  for inputs, labels in dataloader:\n",
        "      outputs = model(inputs)\n",
        "      labels = labels.to(device=device, dtype=torch.int64)\n",
        "      batch_loss = criterion(outputs, labels)\n",
        "\n",
        "      loss += batch_loss.detach().item()\n",
        "      batch_acc, _ = get_accuracy(outputs, labels, batch_size)\n",
        "      acc += batch_acc\n",
        "\n",
        "  return loss, acc\n",
        "\n",
        "def train(model, data_loader_train, data_loader_val, data_loader_test, lr = 0.001):\n",
        "\n",
        "    model, device = gpu_warm_up(model, batch_size, img_size)\n",
        "    optimizer = optim.Adam(model.parameters(), lr=lr)\n",
        "    \n",
        "    # keep track of acc and losses to plot later\n",
        "    all_train_losses, all_train_acc = [], []\n",
        "    all_val_losses, all_val_acc = [], []\n",
        "\n",
        "    init_time = time.time()\n",
        "    for epoch in range(n_epochs): \n",
        "        train_running_loss = 0.0\n",
        "        train_acc = 0.0\n",
        "        model.train()\n",
        "        \n",
        "        for inputs, labels in data_loader_train:\n",
        "          \n",
        "            # zero the parameter gradients\n",
        "            optimizer.zero_grad()\n",
        "\n",
        "            # forward + backward + optimize\n",
        "            outputs = model(inputs)\n",
        "            \n",
        "            labels = labels.to(device=device, dtype=torch.int64)\n",
        "            loss = criterion(outputs, labels)\n",
        "            loss.backward()\n",
        "            optimizer.step()\n",
        "\n",
        "            train_running_loss += loss.detach().item()\n",
        "            batch_train_acc, _ = get_accuracy(outputs, labels, batch_size)\n",
        "            train_acc += batch_train_acc\n",
        "\n",
        "\n",
        "        val_loss, val_acc = evaluate_model(data_loader_val, model, batch_size, device)\n",
        "\n",
        "        # Save and show results\n",
        "        all_train_losses.append(train_running_loss / len(data_loader_train))\n",
        "        all_train_acc.append(train_acc/len(data_loader_train))\n",
        "        all_val_losses.append(val_loss / len(data_loader_val))\n",
        "        all_val_acc.append(val_acc/len(data_loader_val))\n",
        "        print('Epoch:  %d | Train Loss: %.4f | Train Accuracy: %.2f | Val Loss: %.4f | Val Accuracy: %.2f'\n",
        "              %(epoch, train_running_loss / len(data_loader_train), train_acc/len(data_loader_train),\n",
        "                val_loss / len(data_loader_val), val_acc/len(data_loader_val)\n",
        "              ))\n",
        "        \n",
        "    final_time = time.time() # end of training\n",
        "      \n",
        "    # Calculate test accuracy and inference time\n",
        "    starter, ender = torch.cuda.Event(enable_timing=True), torch.cuda.Event(enable_timing=True)\n",
        "    timings = np.zeros((len(data_loader_test), 1))\n",
        "    test_acc = 0.0\n",
        "\n",
        "    for i, data in enumerate(data_loader_test):\n",
        "        (inputs, labels) = data\n",
        "\n",
        "        starter.record()\n",
        "        outputs = model(inputs)\n",
        "        ender.record()\n",
        "        labels = labels.to(device=device, dtype=torch.int64)\n",
        "        # WAIT FOR GPU SYNC\n",
        "        torch.cuda.synchronize()\n",
        "        curr_time = starter.elapsed_time(ender)\n",
        "        timings[i] = curr_time/len(labels)\n",
        "\n",
        "        batch_test_acc, misclassified = get_accuracy(outputs, labels, batch_size)\n",
        "        test_acc += batch_test_acc\n",
        "\n",
        "\n",
        "\n",
        "    print('Test Accuracy: %.2f'%(test_acc/len(data_loader_test)))\n",
        "    print('Training Time: %.2f seconds'%(final_time - init_time))\n",
        "    print('Inference Time: %.2f seconds'%(np.sum(timings) / len(data_loader_test)))\n",
        "    plot_losses_and_accuracies(all_train_losses, all_val_losses, value_name='Loss')\n",
        "    plot_losses_and_accuracies(all_train_acc, all_val_acc, value_name='Accuracy')"
      ],
      "execution_count": null,
      "outputs": []
    },
    {
      "cell_type": "code",
      "metadata": {
        "colab": {
          "base_uri": "https://localhost:8080/"
        },
        "id": "QOVhvLtODXce",
        "outputId": "4dddb1da-9c42-4cc0-9026-a1d3e1b6cbe2"
      },
      "source": [
        "data_loader_train, data_loader_val, data_loader_test = get_mnist_dataset(batch_size=batch_size)"
      ],
      "execution_count": null,
      "outputs": [
        {
          "output_type": "stream",
          "text": [
            "54000\n",
            "6000\n"
          ],
          "name": "stdout"
        }
      ]
    },
    {
      "cell_type": "code",
      "metadata": {
        "id": "vk8mV0bm6Oc2",
        "colab": {
          "base_uri": "https://localhost:8080/",
          "height": 929
        },
        "outputId": "15cfd306-ec9d-49e8-de71-f43c0e234ed2"
      },
      "source": [
        "train(model, data_loader_train, data_loader_val, data_loader_test, lr=lr)"
      ],
      "execution_count": null,
      "outputs": [
        {
          "output_type": "stream",
          "text": [
            "dummy:  torch.Size([16, 1, 28, 28])\n"
          ],
          "name": "stdout"
        },
        {
          "output_type": "stream",
          "text": [
            "/usr/local/lib/python3.7/dist-packages/ipykernel_launcher.py:34: UserWarning: Implicit dimension choice for log_softmax has been deprecated. Change the call to include dim=X as an argument.\n"
          ],
          "name": "stderr"
        },
        {
          "output_type": "stream",
          "text": [
            "Epoch:  0 | Train Loss: 0.2462 | Train Accuracy: 92.73 | Val Loss: 0.0561 | Val Accuracy: 98.35\n",
            "Epoch:  1 | Train Loss: 0.0997 | Train Accuracy: 97.05 | Val Loss: 0.0463 | Val Accuracy: 98.62\n",
            "Epoch:  2 | Train Loss: 0.0724 | Train Accuracy: 97.86 | Val Loss: 0.0392 | Val Accuracy: 98.80\n",
            "Epoch:  3 | Train Loss: 0.0627 | Train Accuracy: 98.18 | Val Loss: 0.0352 | Val Accuracy: 98.97\n",
            "Epoch:  4 | Train Loss: 0.0510 | Train Accuracy: 98.41 | Val Loss: 0.0383 | Val Accuracy: 98.98\n",
            "Epoch:  5 | Train Loss: 0.0444 | Train Accuracy: 98.64 | Val Loss: 0.0319 | Val Accuracy: 99.07\n",
            "Epoch:  6 | Train Loss: 0.0386 | Train Accuracy: 98.74 | Val Loss: 0.0328 | Val Accuracy: 99.07\n",
            "Epoch:  7 | Train Loss: 0.0336 | Train Accuracy: 98.95 | Val Loss: 0.0315 | Val Accuracy: 99.08\n",
            "Epoch:  8 | Train Loss: 0.0306 | Train Accuracy: 99.02 | Val Loss: 0.0385 | Val Accuracy: 99.12\n",
            "Epoch:  9 | Train Loss: 0.0258 | Train Accuracy: 99.13 | Val Loss: 0.0302 | Val Accuracy: 99.18\n",
            "Epoch:  10 | Train Loss: 0.0257 | Train Accuracy: 99.19 | Val Loss: 0.0327 | Val Accuracy: 99.25\n",
            "Epoch:  11 | Train Loss: 0.0244 | Train Accuracy: 99.24 | Val Loss: 0.0351 | Val Accuracy: 99.18\n",
            "Epoch:  12 | Train Loss: 0.0211 | Train Accuracy: 99.30 | Val Loss: 0.0324 | Val Accuracy: 99.30\n",
            "Epoch:  13 | Train Loss: 0.0196 | Train Accuracy: 99.34 | Val Loss: 0.0350 | Val Accuracy: 99.20\n",
            "Epoch:  14 | Train Loss: 0.0183 | Train Accuracy: 99.41 | Val Loss: 0.0295 | Val Accuracy: 99.28\n",
            "Test Accuracy: 99.29\n",
            "Training Time: 711.29 seconds\n",
            "Inference Time: 0.24 seconds\n"
          ],
          "name": "stdout"
        },
        {
          "output_type": "display_data",
          "data": {
            "image/png": "[encoded data removed]",
            "text/plain": [
              "<Figure size 432x288 with 1 Axes>"
            ]
          },
          "metadata": {
            "tags": [],
            "needs_background": "light"
          }
        },
        {
          "output_type": "display_data",
          "data": {
            "image/png": "[encoded data removed]",
            "text/plain": [
              "<Figure size 432x288 with 1 Axes>"
            ]
          },
          "metadata": {
            "tags": [],
            "needs_background": "light"
          }
        }
      ]
    },
    {
      "cell_type": "markdown",
      "metadata": {
        "id": "HgorV_efFcXw"
      },
      "source": [
        "## Arbre de régression souple standard"
      ]
    },
    {
      "cell_type": "markdown",
      "metadata": {
        "id": "380auSk29NLn"
      },
      "source": [
        "### Définition et configuration du modèle"
      ]
    },
    {
      "cell_type": "markdown",
      "metadata": {
        "id": "hZEvau8F_BJ9"
      },
      "source": [
        "Le code est fortement inspiré et adapté de ce répertoire: https://github.com/kimhc6028/soft-decision-tree/blob/master/model.py"
      ]
    },
    {
      "cell_type": "code",
      "metadata": {
        "id": "8o1EoyurrKK9"
      },
      "source": [
        "def get_model_predictions(model, inputs, softmax = nn.Softmax(1)):\n",
        "  inputs = inputs.cuda()\n",
        "  outputs = model(inputs)\n",
        "  outputs = outputs.cpu()\n",
        "  return softmax(outputs)"
      ],
      "execution_count": null,
      "outputs": []
    },
    {
      "cell_type": "code",
      "metadata": {
        "id": "qP3_FbOBFfSo"
      },
      "source": [
        "class Leaf():\n",
        "  def __init__(self, nb_classes):\n",
        "      device = torch.device('cpu')\n",
        "      self.distribution = nn.Parameter(torch.rand(nb_classes).to(device))\n",
        "      self.softmax = nn.Softmax()\n",
        "      self.path_prob = 0\n",
        "      \n",
        "\n",
        "  def forward(self):\n",
        "      # simply softmax of the learned distribution vector\n",
        "      return(self.softmax(self.distribution.view(1,-1)))\n",
        "\n",
        "\n",
        "class Node():\n",
        "  def __init__(self, depth, nb_classes, input_size, lmbda):\n",
        "    self.input_size = input_size\n",
        "    self.nb_classes = nb_classes\n",
        "    device = torch.device('cpu')\n",
        "\n",
        "    self.fc = nn.Linear(self.input_size, 1)\n",
        "    self.beta = nn.Parameter(torch.rand(1).to(device)) # inverse temperature\n",
        "\n",
        "    # to compute penalty\n",
        "    self.root_lmbda = lmbda\n",
        "    self.lmbda = lmbda * 2 ** (-depth)\n",
        "    self.alpha = 0 # will be set according to inputs\n",
        "\n",
        "    if depth > 0:\n",
        "      self.children = self.build_children(depth)  \n",
        "    else:\n",
        "      self.children = [Leaf(nb_classes), Leaf(nb_classes)]\n",
        "  \n",
        "\n",
        "  def build_children(self, depth):\n",
        "    return [Node(depth - 1, self.nb_classes, self.input_size, self.root_lmbda), \n",
        "            Node(depth - 1, self.nb_classes, self.input_size, self.root_lmbda)]\n",
        "\n",
        "\n",
        "  def forward(self, x):\n",
        "    return(torch.sigmoid(self.beta*self.fc(x)))\n",
        "\n",
        "\n",
        "class SoftDecisionTree(nn.Module):\n",
        "  def __init__(self, depth, nb_classes, input_size, learning_rate = 1e-2, weight_decay = 5e-4, lmbda = 0.1):\n",
        "    super(SoftDecisionTree, self).__init__()\n",
        "    # output_dim\n",
        "    self.nb_classes = nb_classes\n",
        "\n",
        "    #input_dim\n",
        "    self.input_size = input_size\n",
        "\n",
        "    # build tree\n",
        "    self.root = Node(depth - 1, self.nb_classes, self.input_size, lmbda)\n",
        "    self.nodes = []\n",
        "    self.leaves = []\n",
        "    self.is_distillated = False\n",
        "\n",
        "    # set Torch optimizer's parameters\n",
        "    self.collect_parameters()\n",
        "    self.optimizer = optim.Adam(self.parameters(), lr=learning_rate, weight_decay=weight_decay)\n",
        "\n",
        "    self.device = torch.device('cpu')\n",
        "\n",
        "  \n",
        "  def collect_parameters(self):\n",
        "    nodes = [self.root]\n",
        "    self.param_list = nn.ParameterList()\n",
        "    self.module_list = nn.ModuleList()\n",
        "    while nodes:\n",
        "      node = nodes.pop(0)\n",
        "      if isinstance(node, Leaf):\n",
        "        self.param_list.append(node.distribution)\n",
        "        self.leaves.append(node)\n",
        "      else:\n",
        "        nodes.append(node.children[0])\n",
        "        nodes.append(node.children[1])\n",
        "        self.module_list.append(node.fc)\n",
        "        self.nodes.append(node)\n",
        "\n",
        "\n",
        "  def forward(self, current_node, inputs, path_prob):\n",
        "    if isinstance(current_node, Leaf): \n",
        "      current_node.path_prob = path_prob\n",
        "      return # end of recursion at a leaf\n",
        "      \n",
        "    # set params for penalty\n",
        "    prob = current_node.forward(inputs)\n",
        "    current_node.alpha = torch.sum(prob * path_prob) / torch.sum(path_prob)\n",
        "\n",
        "    # Left Children -> prob = activation \n",
        "    self.forward(current_node.children[0], inputs, prob * path_prob)\n",
        "    # Right children -> prob = 1 - activation\n",
        "    self.forward(current_node.children[1], inputs, (1-prob) * path_prob)\n",
        "\n",
        "\n",
        "  def get_loss(self, targets):\n",
        "    loss = 0\n",
        "    for leaf in self.leaves:\n",
        "      Q = torch.transpose(leaf.forward(), 0, 1).double()\n",
        "      loss_l = torch.matmul(targets.double(), torch.log(Q))\n",
        "      loss += leaf.path_prob * loss_l\n",
        "    \n",
        "    C = self.get_penalty()\n",
        "    return -loss.mean() + C\n",
        "\n",
        "\n",
        "  def get_penalty(self):\n",
        "    C = 0\n",
        "    for node in self.nodes:\n",
        "      C += -node.lmbda * 0.5 *(torch.log(node.alpha) + torch.log(1-node.alpha))\n",
        "\n",
        "    return C\n",
        "\n",
        "\n",
        "  def predict_classes(self, batch_size):\n",
        "    chosen_predictors = [max(self.leaves, key=lambda leaf: leaf.path_prob[i])  for i in range(batch_size)]\n",
        "    predictions = [predictor.forward() for predictor in chosen_predictors]\n",
        "\n",
        "    return [np.argmax(pred.detach().cpu().numpy()) for pred in predictions]\n",
        "\n",
        "\n",
        "  def onehot_coding(self, target):\n",
        "    target_onehot = torch.FloatTensor(target.size()[0], self.nb_classes).to(self.device)\n",
        "    target_onehot.data.zero_()\n",
        "    target_onehot.scatter_(1, target.view(-1, 1), 1.0)\n",
        "    return target_onehot\n",
        "\n",
        "\n",
        "  def train_epoch(self, train_loader, epoch_nb):\n",
        "    accuracies = []\n",
        "    losses = []\n",
        "    for inputs, targets in train_loader:\n",
        "\n",
        "      inputs = inputs.to(self.device)\n",
        "      targets = targets.to(self.device)\n",
        "\n",
        "      # if training distillated tree, use NN predictions\n",
        "      targets = get_model_predictions(model, inputs) if self.is_distillated else self.onehot_coding(targets)\n",
        "\n",
        "      inputs = inputs.view(len(inputs), -1)   \n",
        "      self.optimizer.zero_grad()\n",
        "\n",
        "      # training\n",
        "      ones = torch.ones((len(inputs), 1)).to(self.device)\n",
        "      self.forward(self.root, inputs, ones)\n",
        "      loss = self.get_loss(targets)\n",
        "      losses.append(loss.detach().cpu().numpy())\n",
        "\n",
        "      # gradient step\n",
        "      loss.backward()\n",
        "      self.optimizer.step()\n",
        "\n",
        "      # keep track of accuracy\n",
        "      predictions = self.predict_classes(len(inputs))\n",
        "      errors = np.count_nonzero(predictions - torch.argmax(targets, dim=1).detach().cpu().numpy())\n",
        "      accuracies.append(100. * (1 -  errors / len(inputs)))\n",
        "\n",
        "    return np.mean(accuracies), np.mean(losses)\n",
        "\n",
        "\n",
        "  def evaluate_tree(self, data_loader):\n",
        "    losses = []\n",
        "    accuracies = []\n",
        "    self.eval()\n",
        "    for inputs, targets in data_loader:\n",
        "\n",
        "      inputs = inputs.to(self.device)\n",
        "      targets = targets.to(self.device)\n",
        "\n",
        "      targets = get_model_predictions(model, inputs) if self.is_distillated else self.onehot_coding(targets)\n",
        "\n",
        "      inputs = inputs.view(len(inputs), -1)   \n",
        "      self.forward(self.root, inputs, torch.ones((len(inputs), 1)))\n",
        "\n",
        "      loss = self.get_loss(targets)\n",
        "      losses.append(loss.detach().cpu().numpy())\n",
        "\n",
        "      predictions = self.predict_classes(len(inputs))\n",
        "      errors = np.count_nonzero(predictions - torch.argmax(targets, dim=1).detach().cpu().numpy())\n",
        "      accuracies.append(100. * (1 -  errors / len(inputs)))\n",
        "\n",
        "    return np.mean(accuracies), np.mean(losses)"
      ],
      "execution_count": null,
      "outputs": []
    },
    {
      "cell_type": "markdown",
      "metadata": {
        "id": "zsuofNH3ed4D"
      },
      "source": [
        "### Entraînement et évaluation"
      ]
    },
    {
      "cell_type": "code",
      "metadata": {
        "id": "-WC3rHXSX7AH"
      },
      "source": [
        "def train_soft_tree(soft_tree, data_loader_train, data_loader_val, data_loader_test):\n",
        "  for epoch in range(nb_epochs):\n",
        "    acc, loss = soft_tree.train_epoch(data_loader_train, epoch)\n",
        "    val_acc, val_loss = soft_tree.evaluate_tree(data_loader_val)\n",
        "    print(f\"Epoch: {epoch} Trg accuracy: {acc:.3f} Trg loss: {loss:.3f} Val accuracy: {val_acc:.3f} Val loss: {val_loss:.3f}\")\n",
        " \n",
        "  test_acc, test_loss = soft_tree.evaluate_tree(data_loader_test)\n",
        "  print(f\"Test Accuracy: {test_acc:.3f} Test Loss: {test_loss:.3f}\")"
      ],
      "execution_count": null,
      "outputs": []
    },
    {
      "cell_type": "code",
      "metadata": {
        "id": "g3QDxON4GTnn",
        "colab": {
          "base_uri": "https://localhost:8080/"
        },
        "outputId": "a88a4b8b-04d1-49a2-8050-79526c80a92b"
      },
      "source": [
        "batch_size = 128\n",
        "lr = 1e-2\n",
        "lmbda = 0.01\n",
        "weight_decay = 5e-4\n",
        "nb_epochs = 20\n",
        "depth = 7\n",
        "\n",
        "data_loader_train, data_loader_val, data_loader_test = get_mnist_dataset(batch_size)\n",
        "soft_tree = SoftDecisionTree(depth, n_categories, img_size*img_size, lr, weight_decay, lmbda)\n",
        "\n",
        "train_soft_tree(soft_tree, data_loader_train, data_loader_val, data_loader_test)"
      ],
      "execution_count": null,
      "outputs": [
        {
          "output_type": "stream",
          "text": [
            "54000\n",
            "6000\n"
          ],
          "name": "stdout"
        },
        {
          "output_type": "stream",
          "text": [
            "/usr/local/lib/python3.7/dist-packages/ipykernel_launcher.py:11: UserWarning: Implicit dimension choice for softmax has been deprecated. Change the call to include dim=X as an argument.\n",
            "  # This is added back by InteractiveShellApp.init_path()\n"
          ],
          "name": "stderr"
        },
        {
          "output_type": "stream",
          "text": [
            "Epoch: 0 Trg accuracy: 82.905 Trg loss: 1.581 Val accuracy: 86.078 Val loss: 1.261\n",
            "Epoch: 1 Trg accuracy: 87.942 Trg loss: 1.221 Val accuracy: 88.186 Val loss: 1.212\n",
            "Epoch: 2 Trg accuracy: 88.643 Trg loss: 1.193 Val accuracy: 88.255 Val loss: 1.201\n",
            "Epoch: 3 Trg accuracy: 89.005 Trg loss: 1.188 Val accuracy: 88.585 Val loss: 1.193\n",
            "Epoch: 4 Trg accuracy: 89.045 Trg loss: 1.180 Val accuracy: 88.034 Val loss: 1.212\n",
            "Epoch: 5 Trg accuracy: 89.042 Trg loss: 1.177 Val accuracy: 88.103 Val loss: 1.226\n",
            "Epoch: 6 Trg accuracy: 89.120 Trg loss: 1.177 Val accuracy: 88.540 Val loss: 1.201\n",
            "Epoch: 7 Trg accuracy: 89.476 Trg loss: 1.176 Val accuracy: 88.645 Val loss: 1.190\n",
            "Epoch: 8 Trg accuracy: 89.408 Trg loss: 1.172 Val accuracy: 88.621 Val loss: 1.190\n",
            "Epoch: 9 Trg accuracy: 89.664 Trg loss: 1.172 Val accuracy: 88.915 Val loss: 1.200\n",
            "Epoch: 10 Trg accuracy: 89.838 Trg loss: 1.170 Val accuracy: 89.815 Val loss: 1.188\n",
            "Epoch: 11 Trg accuracy: 90.071 Trg loss: 1.172 Val accuracy: 89.585 Val loss: 1.189\n",
            "Epoch: 12 Trg accuracy: 90.160 Trg loss: 1.164 Val accuracy: 89.483 Val loss: 1.204\n",
            "Epoch: 13 Trg accuracy: 90.385 Trg loss: 1.165 Val accuracy: 89.860 Val loss: 1.203\n",
            "Epoch: 14 Trg accuracy: 90.441 Trg loss: 1.166 Val accuracy: 89.433 Val loss: 1.194\n",
            "Epoch: 15 Trg accuracy: 90.618 Trg loss: 1.163 Val accuracy: 89.488 Val loss: 1.187\n",
            "Epoch: 16 Trg accuracy: 90.674 Trg loss: 1.159 Val accuracy: 89.896 Val loss: 1.195\n",
            "Epoch: 17 Trg accuracy: 90.589 Trg loss: 1.161 Val accuracy: 90.352 Val loss: 1.182\n",
            "Epoch: 18 Trg accuracy: 90.670 Trg loss: 1.165 Val accuracy: 89.602 Val loss: 1.219\n",
            "Epoch: 19 Trg accuracy: 90.682 Trg loss: 1.163 Val accuracy: 90.088 Val loss: 1.182\n",
            "Test Accuracy: 90.754 Test Loss: 1.147\n"
          ],
          "name": "stdout"
        }
      ]
    },
    {
      "cell_type": "markdown",
      "metadata": {
        "id": "1wC6XVYQfeH-"
      },
      "source": [
        "## Distillation du réseau en arbre souple"
      ]
    },
    {
      "cell_type": "markdown",
      "metadata": {
        "id": "rXOy-SHPf2W8"
      },
      "source": [
        "### Construction de la distribution créée par le réseau"
      ]
    },
    {
      "cell_type": "code",
      "metadata": {
        "id": "LY47PkcJTCzL",
        "colab": {
          "base_uri": "https://localhost:8080/"
        },
        "outputId": "7c148369-df00-4284-c03c-e11d3d512273"
      },
      "source": [
        "# same hyper parameters as the regular soft tree, to assure valid comparison\n",
        "distillated_tree = SoftDecisionTree(depth, n_categories, img_size*img_size, lr, weight_decay)\n",
        "distillated_tree.is_distillated = True\n",
        "\n",
        "train_soft_tree(distillated_tree, data_loader_train, data_loader_val, data_loader_test)"
      ],
      "execution_count": null,
      "outputs": [
        {
          "output_type": "stream",
          "text": [
            "/usr/local/lib/python3.7/dist-packages/ipykernel_launcher.py:34: UserWarning: Implicit dimension choice for log_softmax has been deprecated. Change the call to include dim=X as an argument.\n",
            "/usr/local/lib/python3.7/dist-packages/ipykernel_launcher.py:11: UserWarning: Implicit dimension choice for softmax has been deprecated. Change the call to include dim=X as an argument.\n",
            "  # This is added back by InteractiveShellApp.init_path()\n"
          ],
          "name": "stderr"
        },
        {
          "output_type": "stream",
          "text": [
            "Epoch: 0 Trg accuracy: 81.662 Trg loss: 7.080 Val accuracy: 88.158 Val loss: 6.772\n",
            "Epoch: 1 Trg accuracy: 89.164 Trg loss: 6.826 Val accuracy: 88.409 Val loss: 6.795\n",
            "Epoch: 2 Trg accuracy: 89.708 Trg loss: 6.713 Val accuracy: 88.892 Val loss: 6.686\n",
            "Epoch: 3 Trg accuracy: 89.803 Trg loss: 6.663 Val accuracy: 89.758 Val loss: 6.663\n",
            "Epoch: 4 Trg accuracy: 89.783 Trg loss: 6.656 Val accuracy: 89.822 Val loss: 6.673\n",
            "Epoch: 5 Trg accuracy: 89.993 Trg loss: 6.660 Val accuracy: 90.523 Val loss: 6.697\n",
            "Epoch: 6 Trg accuracy: 90.461 Trg loss: 6.707 Val accuracy: 89.559 Val loss: 6.829\n",
            "Epoch: 7 Trg accuracy: 90.481 Trg loss: 6.845 Val accuracy: 89.898 Val loss: 6.762\n",
            "Epoch: 8 Trg accuracy: 90.512 Trg loss: 6.681 Val accuracy: 89.784 Val loss: 6.681\n",
            "Epoch: 9 Trg accuracy: 90.385 Trg loss: 6.656 Val accuracy: 89.374 Val loss: 6.678\n",
            "Epoch: 10 Trg accuracy: 90.634 Trg loss: 6.642 Val accuracy: 90.036 Val loss: 6.669\n",
            "Epoch: 11 Trg accuracy: 90.512 Trg loss: 6.650 Val accuracy: 89.972 Val loss: 6.671\n",
            "Epoch: 12 Trg accuracy: 90.605 Trg loss: 6.710 Val accuracy: 89.856 Val loss: 6.717\n",
            "Epoch: 13 Trg accuracy: 90.663 Trg loss: 6.723 Val accuracy: 89.675 Val loss: 6.766\n",
            "Epoch: 14 Trg accuracy: 90.585 Trg loss: 6.677 Val accuracy: 90.057 Val loss: 6.641\n",
            "Epoch: 15 Trg accuracy: 90.356 Trg loss: 6.639 Val accuracy: 88.626 Val loss: 6.715\n",
            "Epoch: 16 Trg accuracy: 90.825 Trg loss: 6.645 Val accuracy: 90.397 Val loss: 6.696\n",
            "Epoch: 17 Trg accuracy: 91.338 Trg loss: 6.759 Val accuracy: 90.976 Val loss: 6.675\n",
            "Epoch: 18 Trg accuracy: 91.447 Trg loss: 6.680 Val accuracy: 91.420 Val loss: 6.632\n",
            "Epoch: 19 Trg accuracy: 91.413 Trg loss: 6.620 Val accuracy: 90.853 Val loss: 6.629\n",
            "Test Accuracy: 92.019 Test Loss: 6.627\n"
          ],
          "name": "stdout"
        }
      ]
    }
  ]
}